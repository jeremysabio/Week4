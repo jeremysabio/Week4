{
 "cells": [
  {
   "cell_type": "markdown",
   "metadata": {},
   "source": [
    "### Note\n",
    "* Instructions have been included for each segment. You do not have to follow them exactly, but they are included to help you think through the steps."
   ]
  },
  {
   "cell_type": "code",
   "execution_count": 3,
   "metadata": {},
   "outputs": [],
   "source": [
    "# Dependencies and Setup\n",
    "import pandas as pd\n",
    "\n",
    "# File to Load (Remember to Change These)\n",
    "file_to_load = \"Resources/purchase_data.csv\"\n",
    "\n",
    "# Read Purchasing File and store into Pandas data frame\n",
    "purchase_data = pd.read_csv(file_to_load)"
   ]
  },
  {
   "cell_type": "markdown",
   "metadata": {},
   "source": [
    "## Player Count"
   ]
  },
  {
   "cell_type": "markdown",
   "metadata": {},
   "source": [
    "* Display the total number of players\n"
   ]
  },
  {
   "cell_type": "code",
   "execution_count": 25,
   "metadata": {},
   "outputs": [
    {
     "data": {
      "text/plain": [
       "576"
      ]
     },
     "execution_count": 25,
     "metadata": {},
     "output_type": "execute_result"
    }
   ],
   "source": [
    "#purchase_data.groupby(\"SN\").nunique()\n",
    "#print(purchase_data)\n",
    "len(purchase_data.groupby('SN'))"
   ]
  },
  {
   "cell_type": "markdown",
   "metadata": {},
   "source": [
    "## Purchasing Analysis (Total)"
   ]
  },
  {
   "cell_type": "markdown",
   "metadata": {},
   "source": [
    "* Run basic calculations to obtain number of unique items, average price, etc.\n",
    "\n",
    "\n",
    "* Create a summary data frame to hold the results\n",
    "\n",
    "\n",
    "* Optional: give the displayed data cleaner formatting\n",
    "\n",
    "\n",
    "* Display the summary data frame\n"
   ]
  },
  {
   "cell_type": "code",
   "execution_count": 26,
   "metadata": {
    "scrolled": true
   },
   "outputs": [
    {
     "data": {
      "text/plain": [
       "183"
      ]
     },
     "execution_count": 26,
     "metadata": {},
     "output_type": "execute_result"
    }
   ],
   "source": [
    "#unique item\n",
    "len(purchase_data.groupby('Item ID'))"
   ]
  },
  {
   "cell_type": "markdown",
   "metadata": {},
   "source": [
    "## Gender Demographics"
   ]
  },
  {
   "cell_type": "markdown",
   "metadata": {},
   "source": [
    "* Percentage and Count of Male Players\n",
    "\n",
    "\n",
    "* Percentage and Count of Female Players\n",
    "\n",
    "\n",
    "* Percentage and Count of Other / Non-Disclosed\n",
    "\n",
    "\n"
   ]
  },
  {
   "cell_type": "code",
   "execution_count": 24,
   "metadata": {},
   "outputs": [
    {
     "name": "stdout",
     "output_type": "stream",
     "text": [
      "Male: Percentage 83.58974358974359%, Count 652\n",
      "Female: Percentage 14.487179487179489%, Count 113\n",
      "Other: Percentage 1.9230769230769231%, Count 15\n"
     ]
    }
   ],
   "source": [
    "#print (purchase_data['score']/purchase_data['score'].sum())\n",
    "len(purchase_data.groupby('Gender'))\n",
    "male_list = list(purchase_data['Gender'] == 'Male')\n",
    "male_count = len([x for x in male_list if x == True])\n",
    "female_list = list(purchase_data['Gender'] == 'Female')\n",
    "female_count = len([x for x in female_list if x == True])\n",
    "other_list = list(purchase_data['Gender'] == 'Other / Non-Disclosed')  \n",
    "other_count = len([x for x in other_list if x == True])\n",
    "all_count = male_count + female_count + other_count\n",
    "male_perc = male_count/all_count\n",
    "female_perc = female_count/all_count\n",
    "other_perc = other_count/all_count\n",
    "print('Male: Percentage {}%, Count {}'.format(male_perc*100, male_count) )\n",
    "print('Female: Percentage {}%, Count {}'.format(female_perc*100, female_count) )\n",
    "print('Other: Percentage {}%, Count {}'.format(other_perc*100, other_count) )\n",
    "                  "
   ]
  },
  {
   "cell_type": "markdown",
   "metadata": {},
   "source": [
    "\n",
    "## Purchasing Analysis (Gender)"
   ]
  },
  {
   "cell_type": "markdown",
   "metadata": {},
   "source": [
    "* Run basic calculations to obtain purchase count, avg. purchase price, avg. purchase total per person etc. by gender\n",
    "\n",
    "\n",
    "\n",
    "\n",
    "* Create a summary data frame to hold the results\n",
    "\n",
    "\n",
    "* Optional: give the displayed data cleaner formatting\n",
    "\n",
    "\n",
    "* Display the summary data frame"
   ]
  },
  {
   "cell_type": "code",
   "execution_count": 113,
   "metadata": {},
   "outputs": [
    {
     "name": "stdout",
     "output_type": "stream",
     "text": [
      "4.468395061728395\n",
      "4.065371900826446\n",
      "4.5627272727272725\n",
      "                  Gender Purchase Count  Average Purchase Price  \\\n",
      "0                 Female            113                3.203009   \n",
      "0                   Male            652                3.017853   \n",
      "0  Other / Non-Disclosed             15                3.346000   \n",
      "\n",
      "   Average Total Per Person  \n",
      "0                  4.468395  \n",
      "0                  4.065372  \n",
      "0                  4.562727  \n"
     ]
    }
   ],
   "source": [
    "output_df = pd.DataFrame(columns=['Gender', 'Purchase Count', 'Average Purchase Price', \"Average Total Per Person\"]) # Create the dataframe. Here we have all of out columns\n",
    "for gen in purchase_data.groupby('Gender'): # Go through each of the purchase_data Gender values\n",
    "        output_df = output_df.append([{'Gender': gen[0],'Purchase Count': len(gen[1]), 'Average Purchase Price':gen[1]['Price'].mean(), \"Average Total Per Person\": gen[1]['Price'].sum() / gen[1]['SN'].nunique()  }]) #For each value, append the Gender and Pruchase Count to the dataframe\n",
    "        # print (gen[1]['Price'].mean())\n",
    "        print (gen[1]['Price'].sum() / gen[1]['SN'].nunique())\n",
    "        #for sn in gen[1].groupby('SN'):\n",
    "         #   print(sn[1]['Price'].sum())\n",
    "print (output_df)"
   ]
  },
  {
   "cell_type": "markdown",
   "metadata": {},
   "source": [
    "## Age Demographics"
   ]
  },
  {
   "cell_type": "markdown",
   "metadata": {},
   "source": [
    "* Establish bins for ages\n",
    "\n",
    "\n",
    "* Categorize the existing players using the age bins. Hint: use pd.cut()\n",
    "\n",
    "\n",
    "* Calculate the numbers and percentages by age group\n",
    "\n",
    "\n",
    "* Create a summary data frame to hold the results\n",
    "\n",
    "\n",
    "* Optional: round the percentage column to two decimal points\n",
    "\n",
    "\n",
    "* Display Age Demographics Table\n"
   ]
  },
  {
   "cell_type": "code",
   "execution_count": 146,
   "metadata": {},
   "outputs": [
    {
     "name": "stdout",
     "output_type": "stream",
     "text": [
      "  age_range Purchase Count    Percent\n",
      "0    (0, 9]             23   2.948718\n",
      "0   (9, 14]             28   3.589744\n",
      "0  (14, 19]            136  17.435897\n",
      "0  (19, 24]            365  46.794872\n",
      "0  (24, 29]            101  12.948718\n",
      "0  (29, 34]             73   9.358974\n",
      "0  (34, 39]             41   5.256410\n",
      "0  (39, 99]             13   1.666667\n"
     ]
    }
   ],
   "source": [
    "output_df = pd.DataFrame(columns=['age_range', 'Purchase Count', 'Percent']) # Create the dataframe. Here we have all of out columns\n",
    "age_series= pd.cut(purchase_data.Age, [0,9,14,19,24,29,34,39,99], right =True)\n",
    "purchase_data['age_range'] = age_series\n",
    "total = len(purchase_data)\n",
    "for age in purchase_data.groupby('age_range'): # Go through each of the purchase_data Gender values\n",
    "        output_df = output_df.append([{'age_range': age[0],'Purchase Count': len(age[1]), 'Percent': (len(age[1]) / total) * 100}]) \n",
    "        \n",
    "\n",
    "print (output_df)"
   ]
  },
  {
   "cell_type": "markdown",
   "metadata": {},
   "source": [
    "## Purchasing Analysis (Age)"
   ]
  },
  {
   "cell_type": "markdown",
   "metadata": {},
   "source": [
    "* Bin the purchase_data data frame by age\n",
    "\n",
    "\n",
    "* Run basic calculations to obtain purchase count, avg. purchase price, avg. purchase total per person etc. in the table below\n",
    "\n",
    "\n",
    "* Create a summary data frame to hold the results\n",
    "\n",
    "\n",
    "* Optional: give the displayed data cleaner formatting\n",
    "\n",
    "\n",
    "* Display the summary data frame"
   ]
  },
  {
   "cell_type": "code",
   "execution_count": 137,
   "metadata": {
    "collapsed": true
   },
   "outputs": [
    {
     "name": "stdout",
     "output_type": "stream",
     "text": [
      "  age_range Purchase Count  Average Purchase Price  Average Total Per Person\n",
      "0    (0, 9]             23                3.353478                  4.537059\n",
      "0   (9, 14]             28                2.956429                  3.762727\n",
      "0  (14, 19]            136                3.035956                  3.858785\n",
      "0  (19, 24]            365                3.052219                  4.318062\n",
      "0  (24, 29]            101                2.900990                  3.805195\n",
      "0  (29, 34]             73                2.931507                  4.115385\n",
      "0  (34, 39]             41                3.601707                  4.763548\n",
      "0  (39, 99]             13                2.941538                  3.186667\n"
     ]
    }
   ],
   "source": [
    "output_df = pd.DataFrame(columns=['age_range', 'Purchase Count', 'Average Purchase Price', \"Average Total Per Person\"]) # Create the dataframe. Here we have all of out columns\n",
    "age_series= pd.cut(purchase_data.Age, [0,9,14,19,24,29,34,39,99], right =True)\n",
    "purchase_data['age_range'] = age_series\n",
    "\n",
    "for age in purchase_data.groupby('age_range'): # Go through each of the purchase_data Gender values\n",
    "        output_df = output_df.append([{'age_range': age[0],'Purchase Count': len(age[1]), 'Average Purchase Price':age[1]['Price'].mean(), \"Average Total Per Person\": age[1]['Price'].sum() / age[1]['SN'].nunique()  }]) #For each value, append the Gender and Pruchase Count to the dataframe\n",
    "        # print (gen[1]['Price'].mean())\n",
    "\n",
    "print (output_df)"
   ]
  },
  {
   "cell_type": "markdown",
   "metadata": {},
   "source": [
    "## Top Spenders"
   ]
  },
  {
   "cell_type": "markdown",
   "metadata": {},
   "source": [
    "* Run basic calculations to obtain the results in the table below\n",
    "\n",
    "\n",
    "* Create a summary data frame to hold the results\n",
    "\n",
    "\n",
    "* Sort the total purchase value column in descending order\n",
    "\n",
    "\n",
    "* Optional: give the displayed data cleaner formatting\n",
    "\n",
    "\n",
    "* Display a preview of the summary data frame\n",
    "\n"
   ]
  },
  {
   "cell_type": "code",
   "execution_count": 149,
   "metadata": {},
   "outputs": [
    {
     "name": "stdout",
     "output_type": "stream",
     "text": [
      "             SN Purchase Count  Average Purchase Price  Total Purchase Value\n",
      "0     Lisosia93              5                3.792000                 18.96\n",
      "0   Idastidru52              4                3.862500                 15.45\n",
      "0    Chamjask73              3                4.610000                 13.83\n",
      "0        Iral74              4                3.405000                 13.62\n",
      "0   Iskadarya95              3                4.366667                 13.10\n",
      "..          ...            ...                     ...                   ...\n",
      "0   Ililsasya43              1                1.020000                  1.02\n",
      "0      Irilis75              1                1.020000                  1.02\n",
      "0       Aidai61              1                1.010000                  1.01\n",
      "0    Chanirra79              1                1.010000                  1.01\n",
      "0         Alo38              1                1.000000                  1.00\n",
      "\n",
      "[576 rows x 4 columns]\n"
     ]
    }
   ],
   "source": [
    "output_df = pd.DataFrame(columns=['SN', 'Purchase Count', 'Average Purchase Price', \"Total Purchase Value\"])\n",
    "for sn in purchase_data.groupby('SN'): # Go through each of the purchase_data SN values\n",
    "        output_df = output_df.append([{'SN': sn[0],'Purchase Count': len(sn[1]), 'Average Purchase Price':sn[1]['Price'].mean(), \"Total Purchase Value\": sn[1]['Price'].sum()}]) #For each value, append the Gender and Pruchase Count to the dataframe\n",
    "sort_df = output_df.sort_values (by=['Total Purchase Value'], ascending=False)\n",
    "print(sort_df)       "
   ]
  },
  {
   "cell_type": "markdown",
   "metadata": {},
   "source": [
    "## Most Popular Items"
   ]
  },
  {
   "cell_type": "markdown",
   "metadata": {},
   "source": [
    "* Retrieve the Item ID, Item Name, and Item Price columns\n",
    "\n",
    "\n",
    "* Group by Item ID and Item Name. Perform calculations to obtain purchase count, item price, and total purchase value\n",
    "\n",
    "\n",
    "* Create a summary data frame to hold the results\n",
    "\n",
    "\n",
    "* Sort the purchase count column in descending order\n",
    "\n",
    "\n",
    "* Optional: give the displayed data cleaner formatting\n",
    "\n",
    "\n",
    "* Display a preview of the summary data frame\n",
    "\n"
   ]
  },
  {
   "cell_type": "code",
   "execution_count": 171,
   "metadata": {},
   "outputs": [
    {
     "name": "stdout",
     "output_type": "stream",
     "text": [
      "\n"
     ]
    }
   ],
   "source": [
    "output_df = pd.DataFrame(columns=['Item ID', 'Item Name', 'Price'])\n"
   ]
  },
  {
   "cell_type": "markdown",
   "metadata": {},
   "source": [
    "## Most Profitable Items"
   ]
  },
  {
   "cell_type": "markdown",
   "metadata": {},
   "source": [
    "* Sort the above table by total purchase value in descending order\n",
    "\n",
    "\n",
    "* Optional: give the displayed data cleaner formatting\n",
    "\n",
    "\n",
    "* Display a preview of the data frame\n",
    "\n"
   ]
  },
  {
   "cell_type": "code",
   "execution_count": 10,
   "metadata": {
    "scrolled": true
   },
   "outputs": [
    {
     "data": {
      "text/html": [
       "<div>\n",
       "<style scoped>\n",
       "    .dataframe tbody tr th:only-of-type {\n",
       "        vertical-align: middle;\n",
       "    }\n",
       "\n",
       "    .dataframe tbody tr th {\n",
       "        vertical-align: top;\n",
       "    }\n",
       "\n",
       "    .dataframe thead th {\n",
       "        text-align: right;\n",
       "    }\n",
       "</style>\n",
       "<table border=\"1\" class=\"dataframe\">\n",
       "  <thead>\n",
       "    <tr style=\"text-align: right;\">\n",
       "      <th></th>\n",
       "      <th></th>\n",
       "      <th>Purchase Count</th>\n",
       "      <th>Item Price</th>\n",
       "      <th>Total Purchase Value</th>\n",
       "    </tr>\n",
       "    <tr>\n",
       "      <th>Item ID</th>\n",
       "      <th>Item Name</th>\n",
       "      <th></th>\n",
       "      <th></th>\n",
       "      <th></th>\n",
       "    </tr>\n",
       "  </thead>\n",
       "  <tbody>\n",
       "    <tr>\n",
       "      <th>178</th>\n",
       "      <th>Oathbreaker, Last Hope of the Breaking Storm</th>\n",
       "      <td>12</td>\n",
       "      <td>$4.23</td>\n",
       "      <td>$50.76</td>\n",
       "    </tr>\n",
       "    <tr>\n",
       "      <th>82</th>\n",
       "      <th>Nirvana</th>\n",
       "      <td>9</td>\n",
       "      <td>$4.90</td>\n",
       "      <td>$44.10</td>\n",
       "    </tr>\n",
       "    <tr>\n",
       "      <th>145</th>\n",
       "      <th>Fiery Glass Crusader</th>\n",
       "      <td>9</td>\n",
       "      <td>$4.58</td>\n",
       "      <td>$41.22</td>\n",
       "    </tr>\n",
       "    <tr>\n",
       "      <th>92</th>\n",
       "      <th>Final Critic</th>\n",
       "      <td>8</td>\n",
       "      <td>$4.88</td>\n",
       "      <td>$39.04</td>\n",
       "    </tr>\n",
       "    <tr>\n",
       "      <th>103</th>\n",
       "      <th>Singed Scalpel</th>\n",
       "      <td>8</td>\n",
       "      <td>$4.35</td>\n",
       "      <td>$34.80</td>\n",
       "    </tr>\n",
       "  </tbody>\n",
       "</table>\n",
       "</div>"
      ],
      "text/plain": [
       "                                                     Purchase Count  \\\n",
       "Item ID Item Name                                                     \n",
       "178     Oathbreaker, Last Hope of the Breaking Storm             12   \n",
       "82      Nirvana                                                   9   \n",
       "145     Fiery Glass Crusader                                      9   \n",
       "92      Final Critic                                              8   \n",
       "103     Singed Scalpel                                            8   \n",
       "\n",
       "                                                     Item Price  \\\n",
       "Item ID Item Name                                                 \n",
       "178     Oathbreaker, Last Hope of the Breaking Storm      $4.23   \n",
       "82      Nirvana                                           $4.90   \n",
       "145     Fiery Glass Crusader                              $4.58   \n",
       "92      Final Critic                                      $4.88   \n",
       "103     Singed Scalpel                                    $4.35   \n",
       "\n",
       "                                                     Total Purchase Value  \n",
       "Item ID Item Name                                                          \n",
       "178     Oathbreaker, Last Hope of the Breaking Storm               $50.76  \n",
       "82      Nirvana                                                    $44.10  \n",
       "145     Fiery Glass Crusader                                       $41.22  \n",
       "92      Final Critic                                               $39.04  \n",
       "103     Singed Scalpel                                             $34.80  "
      ]
     },
     "execution_count": 10,
     "metadata": {},
     "output_type": "execute_result"
    }
   ],
   "source": []
  }
 ],
 "metadata": {
  "anaconda-cloud": {},
  "kernel_info": {
   "name": "python3"
  },
  "kernelspec": {
   "display_name": "Python 3",
   "language": "python",
   "name": "python3"
  },
  "language_info": {
   "codemirror_mode": {
    "name": "ipython",
    "version": 3
   },
   "file_extension": ".py",
   "mimetype": "text/x-python",
   "name": "python",
   "nbconvert_exporter": "python",
   "pygments_lexer": "ipython3",
   "version": "3.7.4"
  },
  "latex_envs": {
   "LaTeX_envs_menu_present": true,
   "autoclose": false,
   "autocomplete": true,
   "bibliofile": "biblio.bib",
   "cite_by": "apalike",
   "current_citInitial": 1,
   "eqLabelWithNumbers": true,
   "eqNumInitial": 1,
   "hotkeys": {
    "equation": "Ctrl-E",
    "itemize": "Ctrl-I"
   },
   "labels_anchors": false,
   "latex_user_defs": false,
   "report_style_numbering": false,
   "user_envs_cfg": false
  },
  "nteract": {
   "version": "0.2.0"
  }
 },
 "nbformat": 4,
 "nbformat_minor": 2
}
